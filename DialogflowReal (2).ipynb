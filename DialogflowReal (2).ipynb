{
 "cells": [
  {
   "cell_type": "code",
   "execution_count": 1,
   "id": "564492a2",
   "metadata": {},
   "outputs": [],
   "source": [
    "import os\n",
    "# librerías de google cloud\n",
    "from google.cloud import dialogflow_v2beta1 as dialogflow\n",
    "from google.api_core.exceptions import InvalidArgument\n",
    "# reproducir los vídeos\n",
    "import cv2\n",
    "# poner el texto en color\n",
    "import colorama\n",
    "from colorama import Fore"
   ]
  },
  {
   "cell_type": "code",
   "execution_count": 2,
   "id": "2ef397b3",
   "metadata": {},
   "outputs": [],
   "source": [
    "# conecto con el chatbot de Dialogflow\n",
    "os.environ[\"GOOGLE_APPLICATION_CREDENTIALS\"] = 'DialogdlowKey.json'\n",
    "\n",
    "DIALOGFLOW_PROJECT_ID = 'traductorbot-whkt'\n",
    "DIALOGFLOW_LANGUAGE_CODE = '[en]'\n",
    "SESSION_ID = 'me'\n"
   ]
  },
  {
   "cell_type": "code",
   "execution_count": 3,
   "id": "b51cedc8",
   "metadata": {
    "scrolled": true
   },
   "outputs": [
    {
     "name": "stdout",
     "output_type": "stream",
     "text": [
      "Antes de comenzar, asegúrese de que el texto que desea traducir a Lenguaje de Signos en Español sea en castellano\n",
      "Intentaremos proporcionar la mejor traducción de su texto\n",
      "\n",
      "¿Qué texto desea traducir?\n",
      "Es una Mujer FuertE y Corre muy RÁpido\n"
     ]
    }
   ],
   "source": [
    "print('Antes de comenzar, asegúrese de que el texto que desea traducir a Lenguaje de Signos en Español sea en castellano')\n",
    "print('Intentaremos proporcionar la mejor traducción de su texto')\n",
    "print('')\n",
    "print('¿Qué texto desea traducir?')\n",
    "frase = input()"
   ]
  },
  {
   "cell_type": "code",
   "execution_count": 4,
   "id": "081fb77a",
   "metadata": {},
   "outputs": [
    {
     "data": {
      "text/plain": [
       "'es una mujer fuerte y corre muy rápido'"
      ]
     },
     "execution_count": 4,
     "metadata": {},
     "output_type": "execute_result"
    }
   ],
   "source": [
    "frase=frase.lower()\n",
    "frase"
   ]
  },
  {
   "cell_type": "code",
   "execution_count": 5,
   "id": "076280b6",
   "metadata": {},
   "outputs": [],
   "source": [
    "# función para eliminar las tildes y diéresis\n",
    "def normalize(s):\n",
    "    replacements = (\n",
    "        (\"á\", \"a\"),\n",
    "        (\"é\", \"e\"),\n",
    "        (\"í\", \"i\"),\n",
    "        (\"ó\", \"o\"),\n",
    "        (\"ú\", \"u\"),\n",
    "        (\"ä\", \"a\"),\n",
    "        (\"ë\", \"e\"),\n",
    "        (\"ï\", \"i\"),\n",
    "        (\"ö\", \"o\"),\n",
    "        (\"ü\", \"u\"),     \n",
    "    )\n",
    "    for a, b in replacements:\n",
    "        s = s.replace(a, b).replace(a.upper(), b.upper())\n",
    "    return s"
   ]
  },
  {
   "cell_type": "code",
   "execution_count": 6,
   "id": "441f0c70",
   "metadata": {},
   "outputs": [
    {
     "data": {
      "text/plain": [
       "'es una mujer fuerte y corre muy rapido'"
      ]
     },
     "execution_count": 6,
     "metadata": {},
     "output_type": "execute_result"
    }
   ],
   "source": [
    "frase=normalize(frase)\n",
    "frase"
   ]
  },
  {
   "cell_type": "code",
   "execution_count": 7,
   "id": "717fa6c2",
   "metadata": {},
   "outputs": [
    {
     "data": {
      "text/plain": [
       "8"
      ]
     },
     "execution_count": 7,
     "metadata": {},
     "output_type": "execute_result"
    }
   ],
   "source": [
    "length = len(frase.split())\n",
    "length"
   ]
  },
  {
   "cell_type": "code",
   "execution_count": 8,
   "id": "f12cf3fe",
   "metadata": {
    "scrolled": true
   },
   "outputs": [
    {
     "data": {
      "text/plain": [
       "['es', 'una', 'mujer', 'fuerte', 'y', 'corre', 'muy', 'rapido']"
      ]
     },
     "execution_count": 8,
     "metadata": {},
     "output_type": "execute_result"
    }
   ],
   "source": [
    "frase=frase.split()\n",
    "frase"
   ]
  },
  {
   "cell_type": "code",
   "execution_count": 16,
   "id": "0c521d3c",
   "metadata": {},
   "outputs": [
    {
     "name": "stdout",
     "output_type": "stream",
     "text": [
      "\u001b[31m\u001b[1mPalabra a traducir: es\u001b[0m\n",
      "\u001b[34m\u001b[1mPalabra o frase detectada: es\u001b[0m\n",
      "\u001b[32m\u001b[1mPorcentaje de confianza: 100.0 %\u001b[0m\n",
      "\u001b[33m\u001b[1mIdentificador del vídeo: 15566\u001b[0m\n",
      "\n",
      "\u001b[31m\u001b[1mPalabra a traducir: una\u001b[0m\n",
      "\u001b[34m\u001b[1mPalabra o frase detectada: una\u001b[0m\n",
      "\u001b[32m\u001b[1mPorcentaje de confianza: 100.0 %\u001b[0m\n",
      "\u001b[33m\u001b[1mIdentificador del vídeo: 13543\u001b[0m\n",
      "\n",
      "\u001b[31m\u001b[1mPalabra a traducir: mujer\u001b[0m\n",
      "\u001b[34m\u001b[1mPalabra o frase detectada: mujer de color\u001b[0m\n",
      "\u001b[32m\u001b[1mPorcentaje de confianza: 32.78957009315491 %\u001b[0m\n",
      "\u001b[33m\u001b[1mIdentificador del vídeo: 19011\u001b[0m\n",
      "\n",
      "\u001b[31m\u001b[1mPalabra a traducir: fuerte\u001b[0m\n",
      "\u001b[34m\u001b[1mPalabra o frase detectada: fuerte\u001b[0m\n",
      "\u001b[32m\u001b[1mPorcentaje de confianza: 100.0 %\u001b[0m\n",
      "\u001b[33m\u001b[1mIdentificador del vídeo: 15662\u001b[0m\n",
      "\n",
      "\u001b[31m\u001b[1mPalabra a traducir: y\u001b[0m\n",
      "\u001b[34m\u001b[1mPalabra o frase detectada: y\u001b[0m\n",
      "\u001b[32m\u001b[1mPorcentaje de confianza: 100.0 %\u001b[0m\n",
      "\u001b[33m\u001b[1mIdentificador del vídeo: 13516\u001b[0m\n",
      "\n",
      "\u001b[31m\u001b[1mPalabra a traducir: corre\u001b[0m\n",
      "\u001b[34m\u001b[1mPalabra o frase detectada: \u001b[0m\n",
      "\u001b[32m\u001b[1mPorcentaje de confianza: 100.0 %\u001b[0m\n",
      "\u001b[33m\u001b[1mIdentificador del vídeo: Perdón, no disponemos de ese vídeo\u001b[0m\n",
      "\n",
      "\u001b[31m\u001b[1mPalabra a traducir: muy\u001b[0m\n",
      "\u001b[34m\u001b[1mPalabra o frase detectada: \u001b[0m\n",
      "\u001b[32m\u001b[1mPorcentaje de confianza: 100.0 %\u001b[0m\n",
      "\u001b[33m\u001b[1mIdentificador del vídeo: Perdón, no disponemos de ese vídeo\u001b[0m\n",
      "\n",
      "\u001b[31m\u001b[1mPalabra a traducir: rapido\u001b[0m\n",
      "\u001b[34m\u001b[1mPalabra o frase detectada: rapido\u001b[0m\n",
      "\u001b[32m\u001b[1mPorcentaje de confianza: 100.0 %\u001b[0m\n",
      "\u001b[33m\u001b[1mIdentificador del vídeo: 18046\u001b[0m\n",
      "\n"
     ]
    }
   ],
   "source": [
    "for i in range(0, length):   \n",
    "    session_client = dialogflow.SessionsClient()\n",
    "    session = session_client.session_path(DIALOGFLOW_PROJECT_ID, SESSION_ID)\n",
    "    text_input = dialogflow.types.TextInput(text=frase[i], language_code=DIALOGFLOW_LANGUAGE_CODE)\n",
    "    query_input = dialogflow.types.QueryInput(text=text_input)\n",
    "    try:\n",
    "        response = session_client.detect_intent(session=session, query_input=query_input)\n",
    "    except InvalidArgument:\n",
    "        raise\n",
    "    # Imprimo la palabra que se va a traducir\n",
    "    print(Fore.RED + '\\033[1m' + \"Palabra a traducir:\", response.query_result.query_text + '\\033[0m')\n",
    "    # Imprimo la apalbra/frase de donde el chatbot extrae el vídeo\n",
    "    # Elimino los primeros 28 caracteres ya que las primeras 28 letras de los intents son\n",
    "    # Knowledge.Database.Palabras.\n",
    "    print(Fore.BLUE + '\\033[1m' + \"Palabra o frase detectada:\", response.query_result.intent.display_name[28:] + '\\033[0m')\n",
    "    # Imprimo la confianza de que la palabra sea la correcta o similar\n",
    "    print(Fore.GREEN + '\\033[1m' + \"Porcentaje de confianza:\", response.query_result.intent_detection_confidence*100,'%' + '\\033[0m')\n",
    "    # Imprimo el identificador del vídeo\n",
    "    print(Fore.YELLOW + '\\033[1m' + \"Identificador del vídeo:\", response.query_result.fulfillment_text + '\\033[0m')\n",
    "    print()\n",
    "    \n",
    "    # Código para reproducir los vídeos\n",
    "    capture = cv2.VideoCapture('./Videos/'+response.query_result.fulfillment_text+'.mp4')\n",
    "\n",
    "    while (capture.isOpened()):\n",
    "        ret, frame = capture.read()\n",
    "        if (ret == True):\n",
    "            cv2.imshow(response.query_result.intent.display_name, frame)\n",
    "            if (cv2.waitKey(30) == ord('s')):\n",
    "                break\n",
    "        else:\n",
    "            break\n",
    "\n",
    "    capture.release()\n",
    "    cv2.destroyAllWindows()"
   ]
  }
 ],
 "metadata": {
  "kernelspec": {
   "display_name": "Python 3 (ipykernel)",
   "language": "python",
   "name": "python3"
  },
  "language_info": {
   "codemirror_mode": {
    "name": "ipython",
    "version": 3
   },
   "file_extension": ".py",
   "mimetype": "text/x-python",
   "name": "python",
   "nbconvert_exporter": "python",
   "pygments_lexer": "ipython3",
   "version": "3.9.7"
  }
 },
 "nbformat": 4,
 "nbformat_minor": 5
}
