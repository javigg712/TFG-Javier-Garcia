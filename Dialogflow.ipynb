{
 "cells": [
  {
   "cell_type": "code",
   "execution_count": 1,
   "id": "564492a2",
   "metadata": {},
   "outputs": [],
   "source": [
    "import os\n",
    "# librerías de google cloud\n",
    "from google.cloud import dialogflow_v2beta1 as dialogflow\n",
    "from google.api_core.exceptions import InvalidArgument\n",
    "import cv2"
   ]
  },
  {
   "cell_type": "code",
   "execution_count": 2,
   "id": "2ef397b3",
   "metadata": {},
   "outputs": [],
   "source": [
    "# conecto con el chatbot de Dialogflow\n",
    "os.environ[\"GOOGLE_APPLICATION_CREDENTIALS\"] = 'DialogdlowKey.json'\n",
    "\n",
    "DIALOGFLOW_PROJECT_ID = 'traductorbot-whkt'\n",
    "DIALOGFLOW_LANGUAGE_CODE = '[en]'\n",
    "SESSION_ID = 'me'\n"
   ]
  },
  {
   "cell_type": "code",
   "execution_count": 3,
   "id": "b51cedc8",
   "metadata": {
    "scrolled": true
   },
   "outputs": [
    {
     "name": "stdout",
     "output_type": "stream",
     "text": [
      "Antes de comenzar, asegúrese de que el texto que desea traducir a Lenguaje de Signos en Español sea en castellano\n",
      "Intentaremos proporcionar la mejor traducción de su texto\n",
      "\n",
      "¿Qué texto desea traducir?\n",
      "Es UnA MuJEr Fuerte y CORRE muy RÁPido\n"
     ]
    }
   ],
   "source": [
    "print('Antes de comenzar, asegúrese de que el texto que desea traducir a Lenguaje de Signos en Español sea en castellano')\n",
    "print('Intentaremos proporcionar la mejor traducción de su texto')\n",
    "print('')\n",
    "print('¿Qué texto desea traducir?')\n",
    "frase = input()"
   ]
  },
  {
   "cell_type": "code",
   "execution_count": 4,
   "id": "081fb77a",
   "metadata": {},
   "outputs": [
    {
     "data": {
      "text/plain": [
       "'es una mujer fuerte y corre muy rápido'"
      ]
     },
     "execution_count": 4,
     "metadata": {},
     "output_type": "execute_result"
    }
   ],
   "source": [
    "frase=frase.lower()\n",
    "frase"
   ]
  },
  {
   "cell_type": "code",
   "execution_count": 5,
   "id": "076280b6",
   "metadata": {},
   "outputs": [],
   "source": [
    "# función para eliminar las tildes y diéresis\n",
    "def normalize(s):\n",
    "    replacements = (\n",
    "        (\"á\", \"a\"),\n",
    "        (\"é\", \"e\"),\n",
    "        (\"í\", \"i\"),\n",
    "        (\"ó\", \"o\"),\n",
    "        (\"ú\", \"u\"),\n",
    "        (\"ä\", \"a\"),\n",
    "        (\"ë\", \"e\"),\n",
    "        (\"ï\", \"i\"),\n",
    "        (\"ö\", \"o\"),\n",
    "        (\"ü\", \"u\"),     \n",
    "    )\n",
    "    for a, b in replacements:\n",
    "        s = s.replace(a, b).replace(a.upper(), b.upper())\n",
    "    return s"
   ]
  },
  {
   "cell_type": "code",
   "execution_count": 6,
   "id": "441f0c70",
   "metadata": {},
   "outputs": [
    {
     "data": {
      "text/plain": [
       "'es una mujer fuerte y corre muy rapido'"
      ]
     },
     "execution_count": 6,
     "metadata": {},
     "output_type": "execute_result"
    }
   ],
   "source": [
    "frase=normalize(frase)\n",
    "frase"
   ]
  },
  {
   "cell_type": "code",
   "execution_count": 7,
   "id": "717fa6c2",
   "metadata": {},
   "outputs": [
    {
     "data": {
      "text/plain": [
       "8"
      ]
     },
     "execution_count": 7,
     "metadata": {},
     "output_type": "execute_result"
    }
   ],
   "source": [
    "length = len(frase.split())\n",
    "length"
   ]
  },
  {
   "cell_type": "code",
   "execution_count": 8,
   "id": "f12cf3fe",
   "metadata": {
    "scrolled": true
   },
   "outputs": [
    {
     "data": {
      "text/plain": [
       "['es', 'una', 'mujer', 'fuerte', 'y', 'corre', 'muy', 'rapido']"
      ]
     },
     "execution_count": 8,
     "metadata": {},
     "output_type": "execute_result"
    }
   ],
   "source": [
    "frase=frase.split()\n",
    "frase"
   ]
  },
  {
   "cell_type": "code",
   "execution_count": 9,
   "id": "0c521d3c",
   "metadata": {},
   "outputs": [
    {
     "name": "stdout",
     "output_type": "stream",
     "text": [
      "Query text: es\n",
      "Detected intent: es\n",
      "Detected intent confidence: 1.0\n",
      "Fulfillment text: 15566\n",
      "Query text: una\n",
      "Detected intent: una\n",
      "Detected intent confidence: 1.0\n",
      "Fulfillment text: 13543\n",
      "Query text: mujer\n",
      "Detected intent: mujer de color\n",
      "Detected intent confidence: 0.32802149653434753\n",
      "Fulfillment text: 19011\n",
      "Query text: fuerte\n",
      "Detected intent: fuerte\n",
      "Detected intent confidence: 1.0\n",
      "Fulfillment text: 15662\n",
      "Query text: y\n",
      "Detected intent: y\n",
      "Detected intent confidence: 1.0\n",
      "Fulfillment text: 13516\n",
      "Query text: corre\n",
      "Detected intent: \n",
      "Detected intent confidence: 1.0\n",
      "Fulfillment text: Perdón, no disponemos de ese vídeo\n",
      "Query text: muy\n",
      "Detected intent: \n",
      "Detected intent confidence: 1.0\n",
      "Fulfillment text: Perdón, no disponemos de ese vídeo\n",
      "Query text: rapido\n",
      "Detected intent: rapido\n",
      "Detected intent confidence: 1.0\n",
      "Fulfillment text: 18046\n"
     ]
    }
   ],
   "source": [
    "for i in range(0, length):   \n",
    "    session_client = dialogflow.SessionsClient()\n",
    "    session = session_client.session_path(DIALOGFLOW_PROJECT_ID, SESSION_ID)\n",
    "    text_input = dialogflow.types.TextInput(text=frase[i], language_code=DIALOGFLOW_LANGUAGE_CODE)\n",
    "    query_input = dialogflow.types.QueryInput(text=text_input)\n",
    "    try:\n",
    "        response = session_client.detect_intent(session=session, query_input=query_input)\n",
    "    except InvalidArgument:\n",
    "        raise\n",
    "    # Imprimo la palabra que se va a traducir\n",
    "    print(\"Query text:\", response.query_result.query_text)\n",
    "    # Imprimo la apalbra/frase de donde el chatbot extrae el vídeo\n",
    "    # Elimino los primeros 28 caracteres ya que las primeras 28 letras de los intents son\n",
    "    # Knowledge.Database.Palabras.\n",
    "    print(\"Detected intent:\", response.query_result.intent.display_name[28:])\n",
    "    # Imprimo la confianza de que la palabra sea la correcta o similar\n",
    "    print(\"Detected intent confidence:\", response.query_result.intent_detection_confidence)\n",
    "    # Imprimo el identificador del vídeo\n",
    "    print(\"Fulfillment text:\", response.query_result.fulfillment_text)\n",
    "    \n",
    "    # Código para reproducir los vídeos\n",
    "    capture = cv2.VideoCapture('./Videos/'+response.query_result.fulfillment_text+'.mp4')\n",
    "\n",
    "    while (capture.isOpened()):\n",
    "        ret, frame = capture.read()\n",
    "        if (ret == True):\n",
    "            cv2.imshow(response.query_result.intent.display_name, frame)\n",
    "            if (cv2.waitKey(30) == ord('s')):\n",
    "                break\n",
    "        else:\n",
    "            break\n",
    "\n",
    "    capture.release()\n",
    "    cv2.destroyAllWindows()"
   ]
  },
  {
   "cell_type": "code",
   "execution_count": null,
   "id": "9b2b3b6d",
   "metadata": {},
   "outputs": [],
   "source": []
  }
 ],
 "metadata": {
  "kernelspec": {
   "display_name": "Python 3 (ipykernel)",
   "language": "python",
   "name": "python3"
  },
  "language_info": {
   "codemirror_mode": {
    "name": "ipython",
    "version": 3
   },
   "file_extension": ".py",
   "mimetype": "text/x-python",
   "name": "python",
   "nbconvert_exporter": "python",
   "pygments_lexer": "ipython3",
   "version": "3.9.7"
  }
 },
 "nbformat": 4,
 "nbformat_minor": 5
}
